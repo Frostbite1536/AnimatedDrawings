{
  "nbformat": 4,
  "nbformat_minor": 0,
  "metadata": {
    "colab": {
      "provenance": [],
      "include_colab_link": true
    },
    "kernelspec": {
      "name": "python3",
      "display_name": "Python 3"
    },
    "language_info": {
      "name": "python"
    }
  },
  "cells": [
    {
      "cell_type": "markdown",
      "metadata": {
        "id": "view-in-github",
        "colab_type": "text"
      },
      "source": [
        "<a href=\"https://colab.research.google.com/github/Frostbite1536/AnimatedDrawings/blob/main/Evmos_TWAP_July_'23_to_Jan_'24.ipynb\" target=\"_parent\"><img src=\"https://colab.research.google.com/assets/colab-badge.svg\" alt=\"Open In Colab\"/></a>"
      ]
    },
    {
      "cell_type": "code",
      "source": [
        "import pandas as pd\n",
        "import requests\n",
        "import datetime\n",
        "from pprint import pprint\n",
        "\n",
        "api_endpoint = \"https://api.coingecko.com/api/v3/coins/evmos/market_chart/range?vs_currency=usd&from=1688169600&to=1706738611\"\n",
        "\n",
        "response = requests.get(api_endpoint)\n",
        "api_data = response.json()\n",
        "data = pd.DataFrame()\n",
        "\n",
        "data['time'] = [item[0] for item in api_data['prices']]\n",
        "data['close'] = [item[1] for item in api_data['prices']]\n",
        "stwap = data['close'].mean()\n",
        "\n",
        "pprint(data)\n",
        "print(\"\\n\\nTWAP: \" + str(stwap))\n",
        "\n",
        "\n"
      ],
      "metadata": {
        "colab": {
          "base_uri": "https://localhost:8080/"
        },
        "id": "0xVfJevtApky",
        "outputId": "6a0ab06a-b5d5-4ec6-fc92-1aae7442fecc"
      },
      "execution_count": null,
      "outputs": [
        {
          "output_type": "stream",
          "name": "stdout",
          "text": [
            "              time     close\n",
            "0    1688169600000  0.087907\n",
            "1    1688256000000  0.098019\n",
            "2    1688342400000  0.095575\n",
            "3    1688428800000  0.094891\n",
            "4    1688515200000  0.092766\n",
            "..             ...       ...\n",
            "210  1706313600000  0.087109\n",
            "211  1706400000000  0.083639\n",
            "212  1706486400000  0.082126\n",
            "213  1706572800000  0.082628\n",
            "214  1706659200000  0.080159\n",
            "\n",
            "[215 rows x 2 columns]\n",
            "\n",
            "\n",
            "TWAP: 0.08511179599544696\n"
          ]
        }
      ]
    }
  ]
}